{
 "cells": [
  {
   "cell_type": "code",
   "execution_count": 4,
   "metadata": {},
   "outputs": [
    {
     "data": {
      "text/plain": [
       "'Building REST APIs for mobile or web applications.\\nPrototyping small web apps or MVPs (Minimum Viable Products).\\nServing machine learning models as APIs.'"
      ]
     },
     "execution_count": 4,
     "metadata": {},
     "output_type": "execute_result"
    }
   ],
   "source": [
    "#Q1. What is Flask Framework? What are the advantages of Flask Framework?\n",
    "\n",
    "#What is Flask Framework?\n",
    "\n",
    "'''Flask is a lightweight, microweb framework written in Python. It is designed for building \n",
    "web applications and APIs. Flask is minimalistic and provides only the essential components\n",
    "needed to build a web application, making it highly flexible and easy to extend.It follows\n",
    "the WSGI (Web Server Gateway Interface) standard and uses Jinja2 as its templating engine.\n",
    "Flask is ideal for small to medium-sized applications and is popular for its simplicity and\n",
    " modularity.'''\n",
    "\n",
    "#Advantages of Flask Framework:\n",
    "'''\n",
    "*Lightweight and Minimalistic: Flask provides only the core functionalities required for a \n",
    "web application, making it lightweight and easy to get started.\n",
    "\n",
    "*Flexibility: You can add only the libraries and extensions you need, allowing for more \n",
    "control over your application’s structure.\n",
    "\n",
    "*Easy to Learn and Use: Flask has simple and intuitive APIs, making it beginner-friendly and\n",
    "an excellent choice for developers new to web development.\n",
    "\n",
    "*Extensibility: While minimal, Flask allows integration of various third-party extensions\n",
    "(like Flask-SQLAlchemy, Flask-WTF) for additional functionality, such as database management,\n",
    "form handling, or authentication.\n",
    "\n",
    "*Built-in Development Server and Debugger: Flask comes with a built-in server for testing \n",
    "and debugging, which helps developers quickly identify and fix issues.\n",
    "\n",
    "*Jinja2 Templating:Flask uses the Jinja2 templating engine, enabling developers to build\n",
    "dynamic HTML pages with ease.\n",
    "\n",
    "*RESTful Request Handling: Flask is inherently suitable for building RESTful APIs due to its\n",
    " simplicity and flexibility in handling HTTP requests.\n",
    "\n",
    "*Active Community and Documentation: Flask has a large, active community and excellent\n",
    "documentation, which makes solving problems and finding resources easier.\n",
    "\n",
    "*Scalable: Flask can be scaled for larger applications by organizing the code into blueprints \n",
    "and using extensions for enhanced functionality.\n",
    "\n",
    "*Compatibility with Machine Learning and Data Science: Flask is often used with Python-based \n",
    "machine learning models and data science projects to serve models as APIs.'''\n",
    "\n",
    "#Use Case Examples:\n",
    "\n",
    "'''Building REST APIs for mobile or web applications.\n",
    "Prototyping small web apps or MVPs (Minimum Viable Products).\n",
    "Serving machine learning models as APIs.'''\n",
    "\n",
    "\n",
    "\n",
    "\n",
    "\n"
   ]
  },
  {
   "cell_type": "code",
   "execution_count": null,
   "metadata": {},
   "outputs": [
    {
     "name": "stdout",
     "output_type": "stream",
     "text": [
      " * Serving Flask app '__main__'\n",
      " * Debug mode: off\n"
     ]
    },
    {
     "name": "stderr",
     "output_type": "stream",
     "text": [
      "WARNING: This is a development server. Do not use it in a production deployment. Use a production WSGI server instead.\n",
      " * Running on all addresses (0.0.0.0)\n",
      " * Running on http://127.0.0.1:5000\n",
      " * Running on http://192.168.43.50:5000\n",
      "Press CTRL+C to quit\n",
      "127.0.0.1 - - [05/Dec/2024 12:39:22] \"GET / HTTP/1.1\" 200 -\n",
      "127.0.0.1 - - [05/Dec/2024 12:39:24] \"GET / HTTP/1.1\" 200 -\n",
      "127.0.0.1 - - [05/Dec/2024 12:39:27] \"GET /favicon.ico HTTP/1.1\" 404 -\n",
      "127.0.0.1 - - [05/Dec/2024 12:39:27] \"GET /favicon.ico HTTP/1.1\" 404 -\n"
     ]
    }
   ],
   "source": [
    "'''Q2. Create a simple Flask application to display ‘Hello World!!’. Attach the screenshot of the output in\n",
    "Jupyter Notebook.'''\n",
    "\n",
    "from flask import Flask\n",
    "\n",
    "app= Flask(__name__)\n",
    "\n",
    "@app.route('/')\n",
    "def hello_world():\n",
    "    return \"hello world!!\"\n",
    "\n",
    "\n",
    "if __name__ == \"__main__\" :\n",
    "    app.run(host= \"0.0.0.0\")"
   ]
  },
  {
   "cell_type": "code",
   "execution_count": null,
   "metadata": {},
   "outputs": [],
   "source": [
    "#Q3. What is App routing in Flask? Why do we use app routes?\n",
    "\n",
    "#What is App Routing in Flask?\n",
    "\n",
    "'''In Flask, app routing refers to the process of defining the URL paths (routes) that the \n",
    "application should respond to, along with the specific functions that will handle requests\n",
    " made to those paths. App routes map URLs to Python functions.'''\n",
    "\n",
    "# This is achieved using the @app.route() decorator provided by Flask.\n",
    "\n",
    "# Why Do We Use App Routes?\n",
    "'''\n",
    "*URL Mapping: App routing is essential for associating specific URLs with corresponding \n",
    "view functions that generate responses.\n",
    "\n",
    "For example, visiting / might render the home page, while /about might display information\n",
    "about the application.\n",
    "\n",
    "*User-Friendly URLs: App routes help in creating meaningful and readable URLs that are \n",
    "easy to remember and use.\n",
    "\n",
    "*Separation of Logic: It allows developers to separate the logic for handling different\n",
    "pages \n",
    "or features of the application into distinct functions.\n",
    "\n",
    "*Dynamic Routing: Flask supports dynamic routes, enabling the creation of URLs that accept\n",
    "parameters.\n",
    "\n",
    "Example: /user/<username> to display user-specific data.\n",
    "Control over HTTP Methods: App routes allow specifying HTTP methods (e.g., GET, POST) for \n",
    "different actions at the same URL.\n",
    "'''"
   ]
  },
  {
   "cell_type": "code",
   "execution_count": null,
   "metadata": {},
   "outputs": [
    {
     "name": "stdout",
     "output_type": "stream",
     "text": [
      " * Serving Flask app '__main__'\n",
      " * Debug mode: off\n"
     ]
    },
    {
     "name": "stderr",
     "output_type": "stream",
     "text": [
      "WARNING: This is a development server. Do not use it in a production deployment. Use a production WSGI server instead.\n",
      " * Running on all addresses (0.0.0.0)\n",
      " * Running on http://127.0.0.1:5000\n",
      " * Running on http://192.168.43.50:5000\n",
      "Press CTRL+C to quit\n",
      "127.0.0.1 - - [05/Dec/2024 13:10:16] \"GET / HTTP/1.1\" 200 -\n",
      "127.0.0.1 - - [05/Dec/2024 13:10:20] \"GET / HTTP/1.1\" 200 -\n",
      "127.0.0.1 - - [05/Dec/2024 13:11:30] \"GET /welcome HTTP/1.1\" 200 -\n"
     ]
    }
   ],
   "source": [
    "''' Q4. Create a “/welcome” route to display the welcome message “Welcome to ABC Corporation” and a “/”\n",
    "route to show the following details:\n",
    "Company Name: ABC Corporation\n",
    "Location: India\n",
    "Contact Detail: 999-999-9999 '''\n",
    "\n",
    "\n",
    "from flask import Flask\n",
    "\n",
    "app = Flask(__name__)\n",
    "\n",
    "@app.route('/welcome')\n",
    "def welcome_message():\n",
    "    return \"Welcome to ABC Corporation\"\n",
    "\n",
    "@app.route('/')\n",
    "def company_deatils():\n",
    "    return '''Company Name: ABC Corporation\n",
    "                Location: India\n",
    "                Contact Detail: 999-999-9999 '''\n",
    "\n",
    "\n",
    "if __name__ == \"__main__\" :\n",
    "    app.run(host= \"0.0.0.0\")\n",
    "\n"
   ]
  },
  {
   "cell_type": "code",
   "execution_count": 14,
   "metadata": {},
   "outputs": [
    {
     "data": {
      "text/plain": [
       "'In Flask, the url_for() function is used for URL building. It generates a URL for a given\\nfunction name, ensuring that the URLs in your application are dynamically generated based\\non your route definitions. This is particularly useful for managing links in templates or\\n redirections, especially when routes or their parameters change.'"
      ]
     },
     "execution_count": 14,
     "metadata": {},
     "output_type": "execute_result"
    }
   ],
   "source": [
    "'''Q5. What function is used in Flask for URL Building? Write a Python code to demonstrate the \n",
    "working of the url_for() function.'''\n",
    "\n",
    "\n",
    "#Function Used in Flask for URL Building\n",
    "\n",
    "'''In Flask, the url_for() function is used for URL building. It generates a URL for a given\n",
    "function name, ensuring that the URLs in your application are dynamically generated based\n",
    "on your route definitions. This is particularly useful for managing links in templates or\n",
    " redirections, especially when routes or their parameters change.'''\n",
    "\n",
    "\n",
    "\n",
    "\n",
    "\n"
   ]
  },
  {
   "cell_type": "code",
   "execution_count": null,
   "metadata": {},
   "outputs": [],
   "source": [
    "from flask import Flask, url_for, redirect\n",
    "\n",
    "app = Flask(__name__)\n",
    "\n",
    "# Route for the home page\n",
    "@app.route('/')\n",
    "def home():\n",
    "    return \"Welcome to the Home Page!\"\n",
    "\n",
    "# Route for the about page\n",
    "@app.route('/about')\n",
    "def about():\n",
    "    return \"This is the About Page.\"\n",
    "\n",
    "# Route to demonstrate redirection using url_for\n",
    "@app.route('/go-to-about')\n",
    "def go_to_about():\n",
    "    # Use url_for to generate the URL for 'about' and redirect\n",
    "    return redirect(url_for('about'))\n",
    "\n",
    "if __name__ == '__main__':\n",
    "    app.run(debug=True)\n"
   ]
  }
 ],
 "metadata": {
  "kernelspec": {
   "display_name": "Python 3",
   "language": "python",
   "name": "python3"
  },
  "language_info": {
   "codemirror_mode": {
    "name": "ipython",
    "version": 3
   },
   "file_extension": ".py",
   "mimetype": "text/x-python",
   "name": "python",
   "nbconvert_exporter": "python",
   "pygments_lexer": "ipython3",
   "version": "3.11.4"
  }
 },
 "nbformat": 4,
 "nbformat_minor": 2
}
